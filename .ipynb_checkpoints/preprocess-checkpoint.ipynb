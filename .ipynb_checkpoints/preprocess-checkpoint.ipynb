{
 "cells": [
  {
   "cell_type": "code",
   "execution_count": 3,
   "id": "8a78649d",
   "metadata": {},
   "outputs": [],
   "source": [
    "import pandas as pd\n",
    "import numpy as np \n",
    "from scipy import signal\n",
    "import matplotlib.pyplot as plt\n",
    "\n",
    "#savitzky golay filter in scipy\n",
    "from scipy.signal import savgol_filter"
   ]
  },
  {
   "cell_type": "code",
   "execution_count": 2,
   "id": "c576a3c5",
   "metadata": {},
   "outputs": [],
   "source": [
    "sample_A = pd.read_csv('16_160_sample_A.txt', sep = \"\\t\", header = None)\n",
    "sample_B = pd.read_csv('16_160_sample_B.txt', sep = \"\\t\", header = None)\n",
    "sample_C = pd.read_csv('16_160_sample_C.txt', sep = \"\\t\", header = None)"
   ]
  },
  {
   "cell_type": "code",
   "execution_count": 4,
   "id": "d72e98c3",
   "metadata": {},
   "outputs": [],
   "source": [
    "def subcarrier_fusion_module(filepath):\n",
    "    csi_data = pd.read_csv(filepath, sep = \"\\t\", header = None)\n",
    "    \n",
    "    #normalize the data\n",
    "    normalized_data = csi_data / np.max(np.abs(csi_data))\n",
    "    \n",
    "    #find the correlation of the data \n",
    "    correlation_matrix = np.corrcoef(normalized_data.T)\n",
    "    \n",
    "    #find the eigenvalues and the associated eigenvectors of the data using numpy \n",
    "    eigenvalues, eigenvectors = np.linalg.eig(correlation_matrix)\n",
    "    \n",
    "    #extract the principal component from the eigenvectors, keeping only the second and third component\n",
    "    eigenvectors = eigenvectors[:,1:3]\n",
    "    \n",
    "    #store PC2 here\n",
    "    PC2 = eigenvectors[:,:1]\n",
    "    \n",
    "    #store PC3 here\n",
    "    PC3 = eigenvectors[:,1:]\n",
    "    \n",
    "    return eigenvectors"
   ]
  },
  {
   "cell_type": "code",
   "execution_count": 5,
   "id": "90de9e48",
   "metadata": {},
   "outputs": [
    {
     "name": "stderr",
     "output_type": "stream",
     "text": [
      "C:\\Users\\Kwadwo Silas\\AppData\\Local\\Programs\\Python\\Python310\\lib\\site-packages\\numpy\\core\\fromnumeric.py:84: FutureWarning: In a future version, DataFrame.max(axis=None) will return a scalar max over the entire DataFrame. To retain the old behavior, use 'frame.max(axis=0)' or just 'frame.max()'\n",
      "  return reduction(axis=axis, out=out, **passkwargs)\n"
     ]
    }
   ],
   "source": [
    "m1_sample_A = subcarrier_fusion_module('16_160_sample_A.txt')\n",
    "m1_sample_B = subcarrier_fusion_module('16_160_sample_B.txt')\n",
    "m1_sample_C = sub"
   ]
  },
  {
   "cell_type": "code",
   "execution_count": 18,
   "id": "7873438d",
   "metadata": {},
   "outputs": [],
   "source": [
    "PC2 = filtered_component[:,:1]\n",
    "PC3 = filtered_component[:,1:]\n",
    "#print(f\"the second component is {PC2} \\n and the third component is {PC3}\")"
   ]
  },
  {
   "cell_type": "code",
   "execution_count": 20,
   "id": "316f9ab8",
   "metadata": {},
   "outputs": [],
   "source": [
    "def sliding_window_segmentation(Se, W, step):\n",
    "    V = []\n",
    "    N = len(Se)\n",
    "    \n",
    "    # Step 1: For each subcarrier Sj\n",
    "    for Sj in Se:\n",
    "        # Step 3: For k from 0 to k + W ≤ N with step size 'step'\n",
    "        for k in range(0, N - W + 1, step):\n",
    "            # Step 4: Calculate the mean (mk) of the sequential data in the sliding window from Sj in Se\n",
    "            mk = np.mean(Sj[k:k+W])\n",
    "            # Step 5: Append mk to V\n",
    "            V.append(mk)\n",
    "        # Step 6: End loop\n",
    "        \n",
    "    # Step 7: Set VS as a copy of V\n",
    "    VS = V.copy()\n",
    "    \n",
    "    # Step 8: Sort VS in ascending order\n",
    "    VS.sort()\n",
    "    \n",
    "    # Step 9: Set t as the numerical value of the third quartile (75%) in sorted VS\n",
    "    t = np.percentile(VS, 75)\n",
    "    \n",
    "    # Step 10: Filter out values in V that are less than t\n",
    "    V_filtered = [v for v in V if v >= t]\n",
    "    \n",
    "    # Step 11: The range of the remaining continuous data in V represents the start time (vjs) to the end time (vje) of the activity in the sequential data\n",
    "    vjs = V.index(V_filtered[0])\n",
    "    vje = vjs + len(V_filtered)\n",
    "    \n",
    "    # Step 13: Set Ts as the minimum value of vjs\n",
    "    Ts = vjs\n",
    "    # Step 14: Set Te as the maximum value of vje\n",
    "    Te = vje\n",
    "    \n",
    "    # Step 15: Return Ts, Te\n",
    "    return Ts, Te\n"
   ]
  },
  {
   "cell_type": "code",
   "execution_count": null,
   "id": "b8738247",
   "metadata": {},
   "outputs": [],
   "source": []
  }
 ],
 "metadata": {
  "kernelspec": {
   "display_name": "Python 3 (ipykernel)",
   "language": "python",
   "name": "python3"
  },
  "language_info": {
   "codemirror_mode": {
    "name": "ipython",
    "version": 3
   },
   "file_extension": ".py",
   "mimetype": "text/x-python",
   "name": "python",
   "nbconvert_exporter": "python",
   "pygments_lexer": "ipython3",
   "version": "3.10.5"
  }
 },
 "nbformat": 4,
 "nbformat_minor": 5
}
