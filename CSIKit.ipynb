{
 "cells": [
  {
   "cell_type": "code",
   "execution_count": 6,
   "id": "167d7ca2",
   "metadata": {},
   "outputs": [],
   "source": [
    "from CSIKit.reader import get_reader\n",
    "from CSIKit.util import csitools"
   ]
  },
  {
   "cell_type": "code",
   "execution_count": 3,
   "id": "d06c44bb",
   "metadata": {},
   "outputs": [],
   "source": [
    "csi_data = get_reader('csi_a1_1.dat')"
   ]
  },
  {
   "cell_type": "code",
   "execution_count": null,
   "id": "3f8ffb92",
   "metadata": {},
   "outputs": [],
   "source": []
  },
  {
   "cell_type": "code",
   "execution_count": null,
   "id": "4276acc1",
   "metadata": {},
   "outputs": [],
   "source": []
  }
 ],
 "metadata": {
  "kernelspec": {
   "display_name": "Python 3 (ipykernel)",
   "language": "python",
   "name": "python3"
  },
  "language_info": {
   "codemirror_mode": {
    "name": "ipython",
    "version": 3
   },
   "file_extension": ".py",
   "mimetype": "text/x-python",
   "name": "python",
   "nbconvert_exporter": "python",
   "pygments_lexer": "ipython3",
   "version": "3.10.5"
  }
 },
 "nbformat": 4,
 "nbformat_minor": 5
}
