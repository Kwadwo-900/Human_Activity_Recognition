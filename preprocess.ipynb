{
 "cells": [
  {
   "cell_type": "code",
   "execution_count": 86,
   "id": "8a78649d",
   "metadata": {},
   "outputs": [],
   "source": [
    "import pandas as pd\n",
    "import numpy as np \n",
    "from scipy import signal\n",
    "import matplotlib.pyplot as plt\n",
    "\n",
    "#savitzky golay filter in scipy\n",
    "from scipy.signal import savgol_filter"
   ]
  },
  {
   "cell_type": "code",
   "execution_count": 128,
   "id": "d72e98c3",
   "metadata": {},
   "outputs": [],
   "source": [
    "def subcarrier_fusion_module(filepath):\n",
    "    csi_data = pd.read_csv(filepath, sep = \"\\t\", header = None)\n",
    "    \n",
    "    #normalize the data\n",
    "    #normalized_data = csi_data / np.max(np.abs(csi_data))\n",
    "    \n",
    "    #find the correlation of the data \n",
    "    correlation_matrix = np.corrcoef(csi_data.T)\n",
    "    \n",
    "    #find the eigenvalues and the associated eigenvectors of the data using numpy \n",
    "    eigenvalues, eigenvectors = np.linalg.eig(correlation_matrix)\n",
    "    \n",
    "    #extract the principal component from the eigenvectors, keeping only the second and third component\n",
    "    eigenvectors = eigenvectors[:,1:3]\n",
    "    \n",
    "    #store PC2 here\n",
    "    PC2 = eigenvectors[:,:1]\n",
    "    \n",
    "    #store PC3 here\n",
    "    PC3 = eigenvectors[:,1:]\n",
    "    \n",
    "    return eigenvectors"
   ]
  },
  {
   "cell_type": "code",
   "execution_count": null,
   "id": "90de9e48",
   "metadata": {},
   "outputs": [],
   "source": []
  },
  {
   "cell_type": "code",
   "execution_count": 131,
   "id": "7873438d",
   "metadata": {},
   "outputs": [],
   "source": [
    "eigen_vectors = subcarrier_fusion_module('1_alldata/30_subcarriers_1m/16_160_sample_A.txt')\n",
    "\n",
    "#store PC2 here\n",
    "PC2 = eigen_vectors[:,:1]\n",
    "   \n",
    "#store PC3 here/\n",
    "PC3 = eigen_vectors[:,1:]"
   ]
  },
  {
   "cell_type": "code",
   "execution_count": 90,
   "id": "b5131566",
   "metadata": {},
   "outputs": [],
   "source": [
    "def savitzky_golay_filter(data, window_length, polyorder):\n",
    "    filtered_data = np.zeros_like(data)\n",
    "    \n",
    "    for i in range(data.shape[1]):\n",
    "        filtered_data[:,1] = savgol_filter(data[:,1], window_length, polyorder)\n",
    "        \n",
    "    return filtered_data"
   ]
  },
  {
   "cell_type": "code",
   "execution_count": 98,
   "id": "cf2aa334",
   "metadata": {},
   "outputs": [],
   "source": [
    "filtered_data = savitzky_golay_filter(eigen_vectors,5,2)"
   ]
  },
  {
   "cell_type": "code",
   "execution_count": 119,
   "id": "ad0ea882",
   "metadata": {},
   "outputs": [],
   "source": [
    "#filtered_data"
   ]
  },
  {
   "cell_type": "code",
   "execution_count": 99,
   "id": "316f9ab8",
   "metadata": {},
   "outputs": [],
   "source": [
    "def savitzky_golay_filter(data, window_length, polyorder):\n",
    "    # Check if the window length is odd and greater than the polynomial order\n",
    "    if window_length % 2 == 0 or window_length <= polyorder:\n",
    "        raise ValueError(\"Window length must be odd and greater than polynomial order.\")\n",
    "\n",
    "    # Compute the number of points on each side of the center\n",
    "    half_window = window_length // 2\n",
    "\n",
    "    # Initialize the filtered data array\n",
    "    filtered_data = np.zeros_like(data)\n",
    "\n",
    "    # Calculate the weighting coefficients for the Savitzky-Golay filter\n",
    "    x = np.arange(-half_window, half_window + 1)\n",
    "    a_matrix = np.vander(x, N=polyorder + 1, increasing=True)\n",
    "    coefficients = np.linalg.pinv(a_matrix)[0]\n",
    "\n",
    "    # Apply the filter to each column of the data\n",
    "    for i in range(data.shape[1]):\n",
    "        for j in range(half_window, data.shape[0] - half_window):\n",
    "            # Extract the local window of data\n",
    "            window = data[j - half_window: j + half_window + 1, i]\n",
    "            \n",
    "            # Apply the Savitzky-Golay filter\n",
    "            filtered_data[j, i] = np.dot(coefficients, window)\n",
    "\n",
    "    return filtered_data\n"
   ]
  },
  {
   "cell_type": "code",
   "execution_count": 112,
   "id": "47b103ad",
   "metadata": {},
   "outputs": [],
   "source": [
    "filtered_data = savitzky_golay_filter(eigen_vectors, 3,2)"
   ]
  },
  {
   "cell_type": "code",
   "execution_count": 116,
   "id": "e8d8a758",
   "metadata": {},
   "outputs": [
    {
     "data": {
      "text/plain": [
       "60"
      ]
     },
     "execution_count": 116,
     "metadata": {},
     "output_type": "execute_result"
    }
   ],
   "source": [
    "len(filtered_data)"
   ]
  },
  {
   "cell_type": "code",
   "execution_count": 122,
   "id": "0ee05beb",
   "metadata": {},
   "outputs": [],
   "source": [
    "def sliding_window_variance(data, window_size):\n",
    "    variances = []\n",
    "    for i in range(len(data) - window_size + 1):\n",
    "        window_data = data[i:i + window_size]\n",
    "        variance = np.var(window_data)\n",
    "        variances.append(variance)\n",
    "    return np.array(variances)\n",
    "\n",
    "def sliding_window_mean(data, window_size):\n",
    "    means = []\n",
    "    for i in range(len(data) - window_size + 1):\n",
    "        window_data = data[i:i + window_size]\n",
    "        mean = np.mean(window_data)\n",
    "        means.append(mean)\n",
    "    return np.array(means)\n",
    "\n",
    "def adaptive_activity_segmentation(data, p, t1, t2):\n",
    "    window_size = 5  \n",
    "\n",
    "    # Calculate variance in sliding windows\n",
    "    variance_data = sliding_window_variance(data, window_size)\n",
    "\n",
    "    # Calculate mean in sliding windows\n",
    "    mean_data = sliding_window_mean(variance_data, window_size)\n",
    "\n",
    "    # Sort the mean data and get the maximum value\n",
    "    sorted_means = np.sort(mean_data)\n",
    "    max_value = sorted_means[-1]\n",
    "\n",
    "    # Calculate threshold value T\n",
    "    threshold = p * max_value\n",
    "\n",
    "    # Discard values less than the threshold\n",
    "    filtered_means = mean_data[mean_data >= threshold]\n",
    "\n",
    "    # Calculate normalized segment length t\n",
    "    t_values = np.linspace(t1, t2, num=60) \n",
    "\n",
    "    # Find the optimal t that satisfies the condition\n",
    "    min_segment_length = float('inf')\n",
    "    optimal_t = None\n",
    "    for t in t_values:\n",
    "        segment_length = t * len(data)\n",
    "        if t1 < t < t2 and segment_length < min_segment_length:\n",
    "            min_segment_length = segment_length\n",
    "            optimal_t = t\n",
    "\n",
    "    # Extract activity segments based on filtered mean data\n",
    "    activity_segments = []\n",
    "    for i in range(len(filtered_means)):\n",
    "        if filtered_means[i] >= optimal_t * len(data):\n",
    "            start_time = i * window_size\n",
    "            end_time = (i + 1) * window_size - 1\n",
    "            activity_segments.append((start_time, end_time))\n",
    "\n",
    "    return activity_segments"
   ]
  },
  {
   "cell_type": "code",
   "execution_count": 121,
   "id": "aac5c3b6",
   "metadata": {},
   "outputs": [
    {
     "name": "stdout",
     "output_type": "stream",
     "text": [
      "Activity Segments: []\n"
     ]
    }
   ],
   "source": [
    "p_value = 0.5\n",
    "t1_value = 0.3\n",
    "t2_value = 0.5\n",
    "activity_segments = adaptive_activity_segmentation(filtered_data, p_value, t1_value, t2_value)\n",
    "print(\"Activity Segments:\", activity_segments)"
   ]
  },
  {
   "cell_type": "code",
   "execution_count": null,
   "id": "32dd77ad",
   "metadata": {},
   "outputs": [],
   "source": []
  }
 ],
 "metadata": {
  "kernelspec": {
   "display_name": "Python 3 (ipykernel)",
   "language": "python",
   "name": "python3"
  },
  "language_info": {
   "codemirror_mode": {
    "name": "ipython",
    "version": 3
   },
   "file_extension": ".py",
   "mimetype": "text/x-python",
   "name": "python",
   "nbconvert_exporter": "python",
   "pygments_lexer": "ipython3",
   "version": "3.10.5"
  }
 },
 "nbformat": 4,
 "nbformat_minor": 5
}
